{
  "nbformat": 4,
  "nbformat_minor": 0,
  "metadata": {
    "colab": {
      "provenance": [],
      "authorship_tag": "ABX9TyMmi4W6IVg3R8VRUY7lKj7+",
      "include_colab_link": true
    },
    "kernelspec": {
      "name": "python3",
      "display_name": "Python 3"
    },
    "language_info": {
      "name": "python"
    }
  },
  "cells": [
    {
      "cell_type": "markdown",
      "metadata": {
        "id": "view-in-github",
        "colab_type": "text"
      },
      "source": [
        "<a href=\"https://colab.research.google.com/github/AsadNazir/ML-Semester-Project/blob/main/ModifiedCode.ipynb\" target=\"_parent\"><img src=\"https://colab.research.google.com/assets/colab-badge.svg\" alt=\"Open In Colab\"/></a>"
      ]
    },
    {
      "cell_type": "code",
      "execution_count": 24,
      "metadata": {
        "id": "Ph6AfNtzEVj0"
      },
      "outputs": [],
      "source": [
        "import pandas as pd\n",
        "import matplotlib.pyplot as plt\n",
        "import sklearn as sk\n",
        "import seaborn as sns\n"
      ]
    },
    {
      "cell_type": "markdown",
      "source": [
        "## Getting the Dataset"
      ],
      "metadata": {
        "id": "esa4sjxuFKeL"
      }
    },
    {
      "cell_type": "code",
      "source": [
        "from google.colab import drive\n",
        "drive.mount('/content/drive/')\n",
        "\n",
        "\n",
        "path='/content/drive/MyDrive/waterQuality1.csv'\n",
        "\n",
        "# Read the CSV file into a DataFrame\n",
        "df = pd.read_csv(path)"
      ],
      "metadata": {
        "colab": {
          "base_uri": "https://localhost:8080/"
        },
        "id": "gQeSS9naFJWi",
        "outputId": "d1956f91-207a-46f5-d6cf-f5d66828fce4"
      },
      "execution_count": 25,
      "outputs": [
        {
          "output_type": "stream",
          "name": "stdout",
          "text": [
            "Drive already mounted at /content/drive/; to attempt to forcibly remount, call drive.mount(\"/content/drive/\", force_remount=True).\n"
          ]
        }
      ]
    },
    {
      "cell_type": "code",
      "source": [
        "# Displaying the data\n",
        "df.head(10)"
      ],
      "metadata": {
        "colab": {
          "base_uri": "https://localhost:8080/",
          "height": 456
        },
        "id": "8TNUJibZITMe",
        "outputId": "9b51e2af-b483-4363-ee3f-cd65193092bf"
      },
      "execution_count": 26,
      "outputs": [
        {
          "output_type": "execute_result",
          "data": {
            "text/plain": [
              "   aluminium ammonia  arsenic  barium  cadmium  chloramine  chromium  copper  \\\n",
              "0       1.65    9.08     0.04    2.85    0.007        0.35      0.83    0.17   \n",
              "1       2.32   21.16     0.01    3.31    0.002        5.28      0.68    0.66   \n",
              "2       1.01   14.02     0.04    0.58    0.008        4.24      0.53    0.02   \n",
              "3       1.36   11.33     0.04    2.96    0.001        7.23      0.03    1.66   \n",
              "4       0.92   24.33     0.03    0.20    0.006        2.67      0.69    0.57   \n",
              "5       0.94   14.47     0.03    2.88    0.003        0.80      0.43    1.38   \n",
              "6       2.36     5.6     0.01    1.35    0.004        1.28      0.62    1.88   \n",
              "7       3.93   19.87     0.04    0.66    0.001        6.22      0.10    1.86   \n",
              "8       0.60   24.58     0.01    0.71    0.005        3.14      0.77    1.45   \n",
              "9       0.22   16.76     0.02    1.37    0.007        6.40      0.49    0.82   \n",
              "\n",
              "   flouride  bacteria  ...   lead  nitrates  nitrites  mercury  perchlorate  \\\n",
              "0      0.05      0.20  ...  0.054     16.08      1.13    0.007        37.75   \n",
              "1      0.90      0.65  ...  0.100      2.01      1.93    0.003        32.26   \n",
              "2      0.99      0.05  ...  0.078     14.16      1.11    0.006        50.28   \n",
              "3      1.08      0.71  ...  0.016      1.41      1.29    0.004         9.12   \n",
              "4      0.61      0.13  ...  0.117      6.74      1.11    0.003        16.90   \n",
              "5      0.11      0.67  ...  0.135      9.75      1.89    0.006        27.17   \n",
              "6      0.33      0.13  ...  0.021     18.60      1.78    0.007        45.34   \n",
              "7      0.86      0.16  ...  0.197     13.65      1.81    0.001        53.35   \n",
              "8      0.98      0.35  ...  0.167     14.66      1.84    0.004        23.43   \n",
              "9      1.24      0.83  ...  0.109      4.79      1.46    0.010        30.42   \n",
              "\n",
              "   radium  selenium  silver  uranium  is_safe  \n",
              "0    6.78      0.08    0.34     0.02        1  \n",
              "1    3.21      0.08    0.27     0.05        1  \n",
              "2    7.07      0.07    0.44     0.01        0  \n",
              "3    1.72      0.02    0.45     0.05        1  \n",
              "4    2.41      0.02    0.06     0.02        1  \n",
              "5    5.42      0.08    0.19     0.02        1  \n",
              "6    2.84      0.10    0.24     0.08        0  \n",
              "7    7.24      0.08    0.08     0.07        0  \n",
              "8    4.99      0.08    0.25     0.08        1  \n",
              "9    0.08      0.03    0.31     0.01        1  \n",
              "\n",
              "[10 rows x 21 columns]"
            ],
            "text/html": [
              "\n",
              "  <div id=\"df-649c1b9b-d489-4d07-9860-0fc9f49b5fd9\">\n",
              "    <div class=\"colab-df-container\">\n",
              "      <div>\n",
              "<style scoped>\n",
              "    .dataframe tbody tr th:only-of-type {\n",
              "        vertical-align: middle;\n",
              "    }\n",
              "\n",
              "    .dataframe tbody tr th {\n",
              "        vertical-align: top;\n",
              "    }\n",
              "\n",
              "    .dataframe thead th {\n",
              "        text-align: right;\n",
              "    }\n",
              "</style>\n",
              "<table border=\"1\" class=\"dataframe\">\n",
              "  <thead>\n",
              "    <tr style=\"text-align: right;\">\n",
              "      <th></th>\n",
              "      <th>aluminium</th>\n",
              "      <th>ammonia</th>\n",
              "      <th>arsenic</th>\n",
              "      <th>barium</th>\n",
              "      <th>cadmium</th>\n",
              "      <th>chloramine</th>\n",
              "      <th>chromium</th>\n",
              "      <th>copper</th>\n",
              "      <th>flouride</th>\n",
              "      <th>bacteria</th>\n",
              "      <th>...</th>\n",
              "      <th>lead</th>\n",
              "      <th>nitrates</th>\n",
              "      <th>nitrites</th>\n",
              "      <th>mercury</th>\n",
              "      <th>perchlorate</th>\n",
              "      <th>radium</th>\n",
              "      <th>selenium</th>\n",
              "      <th>silver</th>\n",
              "      <th>uranium</th>\n",
              "      <th>is_safe</th>\n",
              "    </tr>\n",
              "  </thead>\n",
              "  <tbody>\n",
              "    <tr>\n",
              "      <th>0</th>\n",
              "      <td>1.65</td>\n",
              "      <td>9.08</td>\n",
              "      <td>0.04</td>\n",
              "      <td>2.85</td>\n",
              "      <td>0.007</td>\n",
              "      <td>0.35</td>\n",
              "      <td>0.83</td>\n",
              "      <td>0.17</td>\n",
              "      <td>0.05</td>\n",
              "      <td>0.20</td>\n",
              "      <td>...</td>\n",
              "      <td>0.054</td>\n",
              "      <td>16.08</td>\n",
              "      <td>1.13</td>\n",
              "      <td>0.007</td>\n",
              "      <td>37.75</td>\n",
              "      <td>6.78</td>\n",
              "      <td>0.08</td>\n",
              "      <td>0.34</td>\n",
              "      <td>0.02</td>\n",
              "      <td>1</td>\n",
              "    </tr>\n",
              "    <tr>\n",
              "      <th>1</th>\n",
              "      <td>2.32</td>\n",
              "      <td>21.16</td>\n",
              "      <td>0.01</td>\n",
              "      <td>3.31</td>\n",
              "      <td>0.002</td>\n",
              "      <td>5.28</td>\n",
              "      <td>0.68</td>\n",
              "      <td>0.66</td>\n",
              "      <td>0.90</td>\n",
              "      <td>0.65</td>\n",
              "      <td>...</td>\n",
              "      <td>0.100</td>\n",
              "      <td>2.01</td>\n",
              "      <td>1.93</td>\n",
              "      <td>0.003</td>\n",
              "      <td>32.26</td>\n",
              "      <td>3.21</td>\n",
              "      <td>0.08</td>\n",
              "      <td>0.27</td>\n",
              "      <td>0.05</td>\n",
              "      <td>1</td>\n",
              "    </tr>\n",
              "    <tr>\n",
              "      <th>2</th>\n",
              "      <td>1.01</td>\n",
              "      <td>14.02</td>\n",
              "      <td>0.04</td>\n",
              "      <td>0.58</td>\n",
              "      <td>0.008</td>\n",
              "      <td>4.24</td>\n",
              "      <td>0.53</td>\n",
              "      <td>0.02</td>\n",
              "      <td>0.99</td>\n",
              "      <td>0.05</td>\n",
              "      <td>...</td>\n",
              "      <td>0.078</td>\n",
              "      <td>14.16</td>\n",
              "      <td>1.11</td>\n",
              "      <td>0.006</td>\n",
              "      <td>50.28</td>\n",
              "      <td>7.07</td>\n",
              "      <td>0.07</td>\n",
              "      <td>0.44</td>\n",
              "      <td>0.01</td>\n",
              "      <td>0</td>\n",
              "    </tr>\n",
              "    <tr>\n",
              "      <th>3</th>\n",
              "      <td>1.36</td>\n",
              "      <td>11.33</td>\n",
              "      <td>0.04</td>\n",
              "      <td>2.96</td>\n",
              "      <td>0.001</td>\n",
              "      <td>7.23</td>\n",
              "      <td>0.03</td>\n",
              "      <td>1.66</td>\n",
              "      <td>1.08</td>\n",
              "      <td>0.71</td>\n",
              "      <td>...</td>\n",
              "      <td>0.016</td>\n",
              "      <td>1.41</td>\n",
              "      <td>1.29</td>\n",
              "      <td>0.004</td>\n",
              "      <td>9.12</td>\n",
              "      <td>1.72</td>\n",
              "      <td>0.02</td>\n",
              "      <td>0.45</td>\n",
              "      <td>0.05</td>\n",
              "      <td>1</td>\n",
              "    </tr>\n",
              "    <tr>\n",
              "      <th>4</th>\n",
              "      <td>0.92</td>\n",
              "      <td>24.33</td>\n",
              "      <td>0.03</td>\n",
              "      <td>0.20</td>\n",
              "      <td>0.006</td>\n",
              "      <td>2.67</td>\n",
              "      <td>0.69</td>\n",
              "      <td>0.57</td>\n",
              "      <td>0.61</td>\n",
              "      <td>0.13</td>\n",
              "      <td>...</td>\n",
              "      <td>0.117</td>\n",
              "      <td>6.74</td>\n",
              "      <td>1.11</td>\n",
              "      <td>0.003</td>\n",
              "      <td>16.90</td>\n",
              "      <td>2.41</td>\n",
              "      <td>0.02</td>\n",
              "      <td>0.06</td>\n",
              "      <td>0.02</td>\n",
              "      <td>1</td>\n",
              "    </tr>\n",
              "    <tr>\n",
              "      <th>5</th>\n",
              "      <td>0.94</td>\n",
              "      <td>14.47</td>\n",
              "      <td>0.03</td>\n",
              "      <td>2.88</td>\n",
              "      <td>0.003</td>\n",
              "      <td>0.80</td>\n",
              "      <td>0.43</td>\n",
              "      <td>1.38</td>\n",
              "      <td>0.11</td>\n",
              "      <td>0.67</td>\n",
              "      <td>...</td>\n",
              "      <td>0.135</td>\n",
              "      <td>9.75</td>\n",
              "      <td>1.89</td>\n",
              "      <td>0.006</td>\n",
              "      <td>27.17</td>\n",
              "      <td>5.42</td>\n",
              "      <td>0.08</td>\n",
              "      <td>0.19</td>\n",
              "      <td>0.02</td>\n",
              "      <td>1</td>\n",
              "    </tr>\n",
              "    <tr>\n",
              "      <th>6</th>\n",
              "      <td>2.36</td>\n",
              "      <td>5.6</td>\n",
              "      <td>0.01</td>\n",
              "      <td>1.35</td>\n",
              "      <td>0.004</td>\n",
              "      <td>1.28</td>\n",
              "      <td>0.62</td>\n",
              "      <td>1.88</td>\n",
              "      <td>0.33</td>\n",
              "      <td>0.13</td>\n",
              "      <td>...</td>\n",
              "      <td>0.021</td>\n",
              "      <td>18.60</td>\n",
              "      <td>1.78</td>\n",
              "      <td>0.007</td>\n",
              "      <td>45.34</td>\n",
              "      <td>2.84</td>\n",
              "      <td>0.10</td>\n",
              "      <td>0.24</td>\n",
              "      <td>0.08</td>\n",
              "      <td>0</td>\n",
              "    </tr>\n",
              "    <tr>\n",
              "      <th>7</th>\n",
              "      <td>3.93</td>\n",
              "      <td>19.87</td>\n",
              "      <td>0.04</td>\n",
              "      <td>0.66</td>\n",
              "      <td>0.001</td>\n",
              "      <td>6.22</td>\n",
              "      <td>0.10</td>\n",
              "      <td>1.86</td>\n",
              "      <td>0.86</td>\n",
              "      <td>0.16</td>\n",
              "      <td>...</td>\n",
              "      <td>0.197</td>\n",
              "      <td>13.65</td>\n",
              "      <td>1.81</td>\n",
              "      <td>0.001</td>\n",
              "      <td>53.35</td>\n",
              "      <td>7.24</td>\n",
              "      <td>0.08</td>\n",
              "      <td>0.08</td>\n",
              "      <td>0.07</td>\n",
              "      <td>0</td>\n",
              "    </tr>\n",
              "    <tr>\n",
              "      <th>8</th>\n",
              "      <td>0.60</td>\n",
              "      <td>24.58</td>\n",
              "      <td>0.01</td>\n",
              "      <td>0.71</td>\n",
              "      <td>0.005</td>\n",
              "      <td>3.14</td>\n",
              "      <td>0.77</td>\n",
              "      <td>1.45</td>\n",
              "      <td>0.98</td>\n",
              "      <td>0.35</td>\n",
              "      <td>...</td>\n",
              "      <td>0.167</td>\n",
              "      <td>14.66</td>\n",
              "      <td>1.84</td>\n",
              "      <td>0.004</td>\n",
              "      <td>23.43</td>\n",
              "      <td>4.99</td>\n",
              "      <td>0.08</td>\n",
              "      <td>0.25</td>\n",
              "      <td>0.08</td>\n",
              "      <td>1</td>\n",
              "    </tr>\n",
              "    <tr>\n",
              "      <th>9</th>\n",
              "      <td>0.22</td>\n",
              "      <td>16.76</td>\n",
              "      <td>0.02</td>\n",
              "      <td>1.37</td>\n",
              "      <td>0.007</td>\n",
              "      <td>6.40</td>\n",
              "      <td>0.49</td>\n",
              "      <td>0.82</td>\n",
              "      <td>1.24</td>\n",
              "      <td>0.83</td>\n",
              "      <td>...</td>\n",
              "      <td>0.109</td>\n",
              "      <td>4.79</td>\n",
              "      <td>1.46</td>\n",
              "      <td>0.010</td>\n",
              "      <td>30.42</td>\n",
              "      <td>0.08</td>\n",
              "      <td>0.03</td>\n",
              "      <td>0.31</td>\n",
              "      <td>0.01</td>\n",
              "      <td>1</td>\n",
              "    </tr>\n",
              "  </tbody>\n",
              "</table>\n",
              "<p>10 rows × 21 columns</p>\n",
              "</div>\n",
              "      <button class=\"colab-df-convert\" onclick=\"convertToInteractive('df-649c1b9b-d489-4d07-9860-0fc9f49b5fd9')\"\n",
              "              title=\"Convert this dataframe to an interactive table.\"\n",
              "              style=\"display:none;\">\n",
              "        \n",
              "  <svg xmlns=\"http://www.w3.org/2000/svg\" height=\"24px\"viewBox=\"0 0 24 24\"\n",
              "       width=\"24px\">\n",
              "    <path d=\"M0 0h24v24H0V0z\" fill=\"none\"/>\n",
              "    <path d=\"M18.56 5.44l.94 2.06.94-2.06 2.06-.94-2.06-.94-.94-2.06-.94 2.06-2.06.94zm-11 1L8.5 8.5l.94-2.06 2.06-.94-2.06-.94L8.5 2.5l-.94 2.06-2.06.94zm10 10l.94 2.06.94-2.06 2.06-.94-2.06-.94-.94-2.06-.94 2.06-2.06.94z\"/><path d=\"M17.41 7.96l-1.37-1.37c-.4-.4-.92-.59-1.43-.59-.52 0-1.04.2-1.43.59L10.3 9.45l-7.72 7.72c-.78.78-.78 2.05 0 2.83L4 21.41c.39.39.9.59 1.41.59.51 0 1.02-.2 1.41-.59l7.78-7.78 2.81-2.81c.8-.78.8-2.07 0-2.86zM5.41 20L4 18.59l7.72-7.72 1.47 1.35L5.41 20z\"/>\n",
              "  </svg>\n",
              "      </button>\n",
              "      \n",
              "  <style>\n",
              "    .colab-df-container {\n",
              "      display:flex;\n",
              "      flex-wrap:wrap;\n",
              "      gap: 12px;\n",
              "    }\n",
              "\n",
              "    .colab-df-convert {\n",
              "      background-color: #E8F0FE;\n",
              "      border: none;\n",
              "      border-radius: 50%;\n",
              "      cursor: pointer;\n",
              "      display: none;\n",
              "      fill: #1967D2;\n",
              "      height: 32px;\n",
              "      padding: 0 0 0 0;\n",
              "      width: 32px;\n",
              "    }\n",
              "\n",
              "    .colab-df-convert:hover {\n",
              "      background-color: #E2EBFA;\n",
              "      box-shadow: 0px 1px 2px rgba(60, 64, 67, 0.3), 0px 1px 3px 1px rgba(60, 64, 67, 0.15);\n",
              "      fill: #174EA6;\n",
              "    }\n",
              "\n",
              "    [theme=dark] .colab-df-convert {\n",
              "      background-color: #3B4455;\n",
              "      fill: #D2E3FC;\n",
              "    }\n",
              "\n",
              "    [theme=dark] .colab-df-convert:hover {\n",
              "      background-color: #434B5C;\n",
              "      box-shadow: 0px 1px 3px 1px rgba(0, 0, 0, 0.15);\n",
              "      filter: drop-shadow(0px 1px 2px rgba(0, 0, 0, 0.3));\n",
              "      fill: #FFFFFF;\n",
              "    }\n",
              "  </style>\n",
              "\n",
              "      <script>\n",
              "        const buttonEl =\n",
              "          document.querySelector('#df-649c1b9b-d489-4d07-9860-0fc9f49b5fd9 button.colab-df-convert');\n",
              "        buttonEl.style.display =\n",
              "          google.colab.kernel.accessAllowed ? 'block' : 'none';\n",
              "\n",
              "        async function convertToInteractive(key) {\n",
              "          const element = document.querySelector('#df-649c1b9b-d489-4d07-9860-0fc9f49b5fd9');\n",
              "          const dataTable =\n",
              "            await google.colab.kernel.invokeFunction('convertToInteractive',\n",
              "                                                     [key], {});\n",
              "          if (!dataTable) return;\n",
              "\n",
              "          const docLinkHtml = 'Like what you see? Visit the ' +\n",
              "            '<a target=\"_blank\" href=https://colab.research.google.com/notebooks/data_table.ipynb>data table notebook</a>'\n",
              "            + ' to learn more about interactive tables.';\n",
              "          element.innerHTML = '';\n",
              "          dataTable['output_type'] = 'display_data';\n",
              "          await google.colab.output.renderOutput(dataTable, element);\n",
              "          const docLink = document.createElement('div');\n",
              "          docLink.innerHTML = docLinkHtml;\n",
              "          element.appendChild(docLink);\n",
              "        }\n",
              "      </script>\n",
              "    </div>\n",
              "  </div>\n",
              "  "
            ]
          },
          "metadata": {},
          "execution_count": 26
        }
      ]
    },
    {
      "cell_type": "markdown",
      "source": [
        "## Cleaning the Data set"
      ],
      "metadata": {
        "id": "aLI35cTdOGnq"
      }
    },
    {
      "cell_type": "code",
      "source": [
        "# Setting Nan in all columns where it is non number value\n",
        "i=0\n",
        "for column_name, column_data in df.items():\n",
        "  df.iloc[:, i] = pd.to_numeric(df[column_name], errors='coerce')\n",
        "  i=i+1\n",
        "\n",
        "# Remove rows with NaN values in 'is_safe' columns\n",
        "df = df.dropna(subset=['is_safe'])\n"
      ],
      "metadata": {
        "id": "DcWPnqATEhMF"
      },
      "execution_count": null,
      "outputs": []
    },
    {
      "cell_type": "code",
      "source": [
        "# Checking for Nan in all columns\n",
        "for column_name, column_data in df.items():\n",
        "  print(df[column_name].isnull().values.any(), column_name)"
      ],
      "metadata": {
        "colab": {
          "base_uri": "https://localhost:8080/"
        },
        "id": "CvC_XY6CLS20",
        "outputId": "b8b7f8d7-23d8-4ef7-c87f-37d06fe3a6d7"
      },
      "execution_count": 28,
      "outputs": [
        {
          "output_type": "stream",
          "name": "stdout",
          "text": [
            "False aluminium\n",
            "False ammonia\n",
            "False arsenic\n",
            "False barium\n",
            "False cadmium\n",
            "False chloramine\n",
            "False chromium\n",
            "False copper\n",
            "False flouride\n",
            "False bacteria\n",
            "False viruses\n",
            "False lead\n",
            "False nitrates\n",
            "False nitrites\n",
            "False mercury\n",
            "False perchlorate\n",
            "False radium\n",
            "False selenium\n",
            "False silver\n",
            "False uranium\n",
            "False is_safe\n"
          ]
        }
      ]
    },
    {
      "cell_type": "code",
      "source": [
        "# Compute the median for each column\n",
        "median_values = df.median()\n",
        "\n",
        "# Fill NaN values with the median\n",
        "df.fillna(median_values, inplace=True)\n",
        "\n",
        "\n",
        "# Checking for Nan in all columns\n",
        "for column_name, column_data in df.items():\n",
        "  print(df[column_name].isnull().values.any(), column_name)\n"
      ],
      "metadata": {
        "colab": {
          "base_uri": "https://localhost:8080/"
        },
        "id": "n4Fs5UxePXb9",
        "outputId": "1bbba9db-27bd-46ec-d91d-e3bf592e6a1f"
      },
      "execution_count": 37,
      "outputs": [
        {
          "output_type": "stream",
          "name": "stdout",
          "text": [
            "False aluminium\n",
            "False ammonia\n",
            "False arsenic\n",
            "False barium\n",
            "False cadmium\n",
            "False chloramine\n",
            "False chromium\n",
            "False copper\n",
            "False flouride\n",
            "False bacteria\n",
            "False viruses\n",
            "False lead\n",
            "False nitrates\n",
            "False nitrites\n",
            "False mercury\n",
            "False perchlorate\n",
            "False radium\n",
            "False selenium\n",
            "False silver\n",
            "False uranium\n",
            "False is_safe\n"
          ]
        }
      ]
    },
    {
      "cell_type": "code",
      "source": [
        "df[\"is_safe\"].hist()"
      ],
      "metadata": {
        "id": "BxM5OpKtHupQ",
        "colab": {
          "base_uri": "https://localhost:8080/",
          "height": 447
        },
        "outputId": "1965d8a9-8f7c-4293-c395-0dec8d8ee413"
      },
      "execution_count": 30,
      "outputs": [
        {
          "output_type": "execute_result",
          "data": {
            "text/plain": [
              "<Axes: >"
            ]
          },
          "metadata": {},
          "execution_count": 30
        },
        {
          "output_type": "display_data",
          "data": {
            "text/plain": [
              "<Figure size 640x480 with 1 Axes>"
            ],
            "image/png": "[encoded data removed]"
          },
          "metadata": {}
        }
      ]
    },
    {
      "cell_type": "markdown",
      "source": [
        "## Spliting the dataset"
      ],
      "metadata": {
        "id": "blBlvkk-PCvO"
      }
    },
    {
      "cell_type": "code",
      "source": [
        "from sklearn.model_selection import train_test_split\n",
        "from sklearn.metrics import accuracy_score\n",
        "\n",
        "# Separate the features (X) and the target variable (y)\n",
        "X = df.drop(\"is_safe\", axis=1)\n",
        "y = df[\"is_safe\"]\n",
        "\n",
        "# Split the data into training and testing sets 80 20 ration\n",
        "X_train, X_test, y_train, y_test = train_test_split(X, y, test_size=0.2, random_state=42)\n",
        "\n",
        "\n"
      ],
      "metadata": {
        "id": "QRgKhxAYI5ll"
      },
      "execution_count": 31,
      "outputs": []
    },
    {
      "cell_type": "markdown",
      "source": [
        "## KNN Classifier"
      ],
      "metadata": {
        "id": "Evqfv5zUO6fP"
      }
    },
    {
      "cell_type": "code",
      "source": [
        "from sklearn.neighbors import KNeighborsClassifier\n",
        "\n",
        "# K-Nearest Neighbors (KNN)\n",
        "knn = KNeighborsClassifier(n_neighbors=3)\n",
        "knn.fit(X_train, y_train)\n",
        "knn_predictions = knn.predict(X_test)\n",
        "\n",
        "# Printing the accuracy\n",
        "knn_accuracy =100* accuracy_score(y_test, knn_predictions)\n",
        "knn_accuracy"
      ],
      "metadata": {
        "colab": {
          "base_uri": "https://localhost:8080/"
        },
        "id": "DcKxc7KmO2Xm",
        "outputId": "6e3a02d8-0489-4d8e-832c-5b0880255a06"
      },
      "execution_count": 32,
      "outputs": [
        {
          "output_type": "execute_result",
          "data": {
            "text/plain": [
              "85.5"
            ]
          },
          "metadata": {},
          "execution_count": 32
        }
      ]
    },
    {
      "cell_type": "markdown",
      "source": [
        "## Naive Bayes Classifier"
      ],
      "metadata": {
        "id": "yP2BSxSJP9Dz"
      }
    },
    {
      "cell_type": "code",
      "source": [
        "from sklearn.naive_bayes import GaussianNB\n",
        "\n",
        "# Naive Bayes\n",
        "nb = GaussianNB()\n",
        "nb.fit(X_train, y_train)\n",
        "nb_predictions = nb.predict(X_test)\n",
        "\n",
        "# Printing the accuracy\n",
        "nb_accuracy =100* accuracy_score(y_test, nb_predictions)\n",
        "nb_accuracy"
      ],
      "metadata": {
        "colab": {
          "base_uri": "https://localhost:8080/"
        },
        "id": "JwAMfzS5QqhB",
        "outputId": "1eb81992-c077-45e3-8124-09777f5b16a6"
      },
      "execution_count": 33,
      "outputs": [
        {
          "output_type": "execute_result",
          "data": {
            "text/plain": [
              "84.4375"
            ]
          },
          "metadata": {},
          "execution_count": 33
        }
      ]
    },
    {
      "cell_type": "markdown",
      "source": [
        "## Decision Tree Classifier"
      ],
      "metadata": {
        "id": "32kccS4vQEFs"
      }
    },
    {
      "cell_type": "code",
      "source": [
        "from sklearn.tree import DecisionTreeClassifier\n",
        "\n",
        "# Decision tree classifier\n",
        "dt = DecisionTreeClassifier()\n",
        "dt.fit(X_train, y_train)\n",
        "dt_predictions = dt.predict(X_test)\n",
        "\n",
        "# Printing the accuracy\n",
        "dt_accuracy =100* accuracy_score(y_test, dt_predictions)\n",
        "dt_accuracy"
      ],
      "metadata": {
        "colab": {
          "base_uri": "https://localhost:8080/"
        },
        "id": "HW6CkmMSQ68f",
        "outputId": "a44f501c-abf8-4c15-d261-e689a3824669"
      },
      "execution_count": 34,
      "outputs": [
        {
          "output_type": "execute_result",
          "data": {
            "text/plain": [
              "96.1875"
            ]
          },
          "metadata": {},
          "execution_count": 34
        }
      ]
    },
    {
      "cell_type": "markdown",
      "source": [
        "## Support Vector Machine Classifier"
      ],
      "metadata": {
        "id": "Gf-Z4yYdQTUC"
      }
    },
    {
      "cell_type": "code",
      "source": [
        "from sklearn.svm import SVC\n",
        "\n",
        "# Support Vector Machine (SVM)\n",
        "svm = SVC()\n",
        "svm.fit(X_train, y_train)\n",
        "svm_predictions = svm.predict(X_test)\n",
        "\n",
        "# Printing the accuracy\n",
        "svm_accuracy =100* accuracy_score(y_test, svm_predictions)\n",
        "svm_accuracy"
      ],
      "metadata": {
        "colab": {
          "base_uri": "https://localhost:8080/"
        },
        "id": "MXAPJB6DRYwv",
        "outputId": "93de282f-e6e4-49d8-8b04-5c93bb814cef"
      },
      "execution_count": 35,
      "outputs": [
        {
          "output_type": "execute_result",
          "data": {
            "text/plain": [
              "87.5"
            ]
          },
          "metadata": {},
          "execution_count": 35
        }
      ]
    },
    {
      "cell_type": "markdown",
      "source": [
        "## Printing thr Accuracies"
      ],
      "metadata": {
        "id": "wQltVJRtQaoC"
      }
    },
    {
      "cell_type": "code",
      "source": [
        "\n",
        "# Printing the accuracies\n",
        "accuracies = [svm_accuracy, dt_accuracy, nb_accuracy]\n",
        "\n",
        "# Define the labels for each classifier\n",
        "classifiers = ['SVM', 'Decision Tree', 'Naive Bayes']\n",
        "\n",
        "# Plot the histogram\n",
        "plt.bar(classifiers, accuracies)\n",
        "plt.xlabel('Classifiers')\n",
        "plt.ylabel('Accuracy')\n",
        "plt.title('Accuracy of Different Classifiers')\n",
        "plt.show()\n",
        "\n",
        "\n",
        "\n",
        "\n",
        "\n",
        "\n",
        "\n"
      ],
      "metadata": {
        "colab": {
          "base_uri": "https://localhost:8080/",
          "height": 472
        },
        "id": "_xaPzhewRegm",
        "outputId": "c7b85280-3530-4983-f143-47263b2d10d6"
      },
      "execution_count": 36,
      "outputs": [
        {
          "output_type": "display_data",
          "data": {
            "text/plain": [
              "<Figure size 640x480 with 1 Axes>"
            ],
            "image/png": "[encoded data removed]"
          },
          "metadata": {}
        }
      ]
    }
  ]
}