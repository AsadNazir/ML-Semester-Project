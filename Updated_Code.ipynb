{
  "nbformat": 4,
  "nbformat_minor": 0,
  "metadata": {
    "colab": {
      "provenance": []
    },
    "kernelspec": {
      "name": "python3",
      "display_name": "Python 3"
    },
    "language_info": {
      "name": "python"
    }
  },
  "cells": [
    {
      "cell_type": "code",
      "execution_count": 160,
      "metadata": {
        "id": "vx_6OnQB4KZ9",
        "colab": {
          "base_uri": "https://localhost:8080/",
          "height": 0
        },
        "outputId": "79e24564-ca0b-414b-87d2-4d56cef8b252"
      },
      "outputs": [
        {
          "output_type": "stream",
          "name": "stdout",
          "text": [
            "KNN Accuracy: 0.5966666666666667\n",
            "Decision Tree Accuracy: 0.6533333333333333\n",
            "SVM Accuracy: 0.67\n",
            "Naive Bayes Accuracy: 0.7366666666666667\n",
            "Random Forest Accuracy: 0.8033333333333333\n"
          ]
        }
      ],
      "source": [
        "import pandas as pd\n",
        "from sklearn.model_selection import train_test_split\n",
        "from sklearn.neighbors import KNeighborsClassifier\n",
        "from sklearn.tree import DecisionTreeClassifier\n",
        "from sklearn.svm import SVC\n",
        "from sklearn.naive_bayes import GaussianNB\n",
        "from sklearn.metrics import accuracy_score\n",
        "from sklearn.utils import shuffle\n",
        "from sklearn.impute import SimpleImputer\n",
        "from sklearn.ensemble import RandomForestClassifier\n",
        "\n",
        "# Read the dataset\n",
        "file_path = '/content/output80-6.csv'\n",
        "df = pd.read_csv(file_path)\n",
        "\n",
        "\n",
        "\n",
        "\n",
        "# Split the dataset into features and target variable\n",
        "columns_to_remove = ['Potability', 'Conductivity']\n",
        "X = df.drop(columns_to_remove, axis=1)\n",
        "y = df[\"Potability\"]\n",
        "\n",
        "# Handle missing values\n",
        "imputer = SimpleImputer(strategy='mean')\n",
        "X_imputed = imputer.fit_transform(X)\n",
        "\n",
        "# Split the data into training and test sets\n",
        "X_train, X_test, y_train, y_test = train_test_split(X_imputed, y, test_size=0.2, random_state=1)\n",
        "\n",
        "# K-Nearest Neighbors (KNN)\n",
        "knn_classifier = KNeighborsClassifier(n_neighbors=5)\n",
        "knn_classifier.fit(X_train, y_train)\n",
        "knn_y_pred = knn_classifier.predict(X_test)\n",
        "knn_accuracy = accuracy_score(y_test, knn_y_pred)\n",
        "print(\"KNN Accuracy:\", knn_accuracy)\n",
        "\n",
        "# Decision Tree\n",
        "dt_classifier = DecisionTreeClassifier()\n",
        "dt_classifier.fit(X_train, y_train)\n",
        "dt_y_pred = dt_classifier.predict(X_test)\n",
        "dt_accuracy = accuracy_score(y_test, dt_y_pred)\n",
        "print(\"Decision Tree Accuracy:\", dt_accuracy)\n",
        "\n",
        "# Support Vector Machines (SVM)\n",
        "svm_classifier = SVC()\n",
        "svm_classifier.fit(X_train, y_train)\n",
        "svm_y_pred = svm_classifier.predict(X_test)\n",
        "svm_accuracy = accuracy_score(y_test, svm_y_pred)\n",
        "print(\"SVM Accuracy:\", svm_accuracy)\n",
        "\n",
        "# Gaussian Naive Bayes\n",
        "nb_classifier = GaussianNB()\n",
        "nb_classifier.fit(X_train, y_train)\n",
        "nb_y_pred = nb_classifier.predict(X_test)\n",
        "nb_accuracy = accuracy_score(y_test, nb_y_pred)\n",
        "print(\"Naive Bayes Accuracy:\", nb_accuracy)\n",
        "\n",
        "# Random Forest\n",
        "rf_classifier = RandomForestClassifier()\n",
        "rf_classifier.fit(X_train, y_train)\n",
        "rf_y_pred = rf_classifier.predict(X_test)\n",
        "rf_accuracy = accuracy_score(y_test, rf_y_pred)\n",
        "print(\"Random Forest Accuracy:\", rf_accuracy)\n"
      ]
    }
  ]
}