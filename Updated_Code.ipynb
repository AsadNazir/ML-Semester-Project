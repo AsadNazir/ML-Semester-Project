{
  "nbformat": 4,
  "nbformat_minor": 0,
  "metadata": {
    "colab": {
      "provenance": []
    },
    "kernelspec": {
      "name": "python3",
      "display_name": "Python 3"
    },
    "language_info": {
      "name": "python"
    }
  },
  "cells": [
    {
      "cell_type": "code",
      "execution_count": 139,
      "metadata": {
        "id": "vx_6OnQB4KZ9",
        "colab": {
          "base_uri": "https://localhost:8080/"
        },
        "outputId": "f754a794-d360-49e2-cdc7-37512c72d2fb"
      },
      "outputs": [
        {
          "output_type": "stream",
          "name": "stdout",
          "text": [
            "KNN Accuracy: 0.855\n",
            "Naive Bayes Accuracy: 0.844375\n",
            "Decision Tree Accuracy: 0.96125\n",
            "SVM Accuracy: 0.875\n"
          ]
        }
      ],
      "source": [
        "import pandas as pd\n",
        "from sklearn.model_selection import train_test_split\n",
        "from sklearn.neighbors import KNeighborsClassifier\n",
        "from sklearn.naive_bayes import GaussianNB\n",
        "from sklearn.tree import DecisionTreeClassifier\n",
        "from sklearn.svm import SVC\n",
        "from sklearn.metrics import accuracy_score\n",
        "\n",
        "# Load the dataset\n",
        "data = pd.read_csv(\"/content/CleanedDataset\")\n",
        "\n",
        "data['ammonia'] = data['ammonia'].astype(float)\n",
        "data['is_safe'] = data['is_safe'].astype(int)\n",
        "\n",
        "# Separate the features (X) and the target variable (y)\n",
        "X = data.drop(\"is_safe\", axis=1)\n",
        "y = data[\"is_safe\"]\n",
        "\n",
        "# Split the data into training and testing sets\n",
        "X_train, X_test, y_train, y_test = train_test_split(X, y, test_size=0.2, random_state=42)\n",
        "\n",
        "# K-Nearest Neighbors (KNN)\n",
        "knn = KNeighborsClassifier(n_neighbors=3)\n",
        "knn.fit(X_train, y_train)\n",
        "knn_predictions = knn.predict(X_test)\n",
        "knn_accuracy = accuracy_score(y_test, knn_predictions)\n",
        "\n",
        "# Naive Bayes\n",
        "nb = GaussianNB()\n",
        "nb.fit(X_train, y_train)\n",
        "nb_predictions = nb.predict(X_test)\n",
        "nb_accuracy = accuracy_score(y_test, nb_predictions)\n",
        "\n",
        "# Decision Tree\n",
        "dt = DecisionTreeClassifier()\n",
        "dt.fit(X_train, y_train)\n",
        "dt_predictions = dt.predict(X_test)\n",
        "dt_accuracy = accuracy_score(y_test, dt_predictions)\n",
        "\n",
        "# Support Vector Machine (SVM)\n",
        "svm = SVC()\n",
        "svm.fit(X_train, y_train)\n",
        "svm_predictions = svm.predict(X_test)\n",
        "svm_accuracy = accuracy_score(y_test, svm_predictions)\n",
        "\n",
        "# Print the accuracies\n",
        "print(\"KNN Accuracy:\", knn_accuracy)\n",
        "print(\"Naive Bayes Accuracy:\", nb_accuracy)\n",
        "print(\"Decision Tree Accuracy:\", dt_accuracy)\n",
        "print(\"SVM Accuracy:\", svm_accuracy)\n"
      ]
    }
  ]
}