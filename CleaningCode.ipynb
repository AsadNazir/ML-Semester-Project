{
  "nbformat": 4,
  "nbformat_minor": 0,
  "metadata": {
    "colab": {
      "provenance": []
    },
    "kernelspec": {
      "name": "python3",
      "display_name": "Python 3"
    },
    "language_info": {
      "name": "python"
    }
  },
  "cells": [
    {
      "cell_type": "code",
      "execution_count": 14,
      "metadata": {
        "colab": {
          "base_uri": "https://localhost:8080/"
        },
        "id": "wff0nSZobVvc",
        "outputId": "d08713fc-1f34-414c-aa69-edb7d0c2751b"
      },
      "outputs": [
        {
          "output_type": "stream",
          "name": "stdout",
          "text": [
            "      aluminium  ammonia  arsenic  barium  cadmium  chloramine  chromium  \\\n",
            "0          1.65     9.08     0.04    2.85    0.007        0.35      0.83   \n",
            "1          2.32    21.16     0.01    3.31    0.002        5.28      0.68   \n",
            "2          1.01    14.02     0.04    0.58    0.008        4.24      0.53   \n",
            "3          1.36    11.33     0.04    2.96    0.001        7.23      0.03   \n",
            "4          0.92    24.33     0.03    0.20    0.006        2.67      0.69   \n",
            "...         ...      ...      ...     ...      ...         ...       ...   \n",
            "7994       0.05     7.78     0.00    1.95    0.040        0.10      0.03   \n",
            "7995       0.05    24.22     0.02    0.59    0.010        0.45      0.02   \n",
            "7996       0.09     6.85     0.00    0.61    0.030        0.05      0.05   \n",
            "7997       0.01    10.00     0.01    2.00    0.000        2.00      0.00   \n",
            "7998       0.04     6.85     0.01    0.70    0.030        0.05      0.01   \n",
            "\n",
            "      copper  flouride  bacteria  ...   lead  nitrates  nitrites  mercury  \\\n",
            "0       0.17      0.05      0.20  ...  0.054     16.08      1.13    0.007   \n",
            "1       0.66      0.90      0.65  ...  0.100      2.01      1.93    0.003   \n",
            "2       0.02      0.99      0.05  ...  0.078     14.16      1.11    0.006   \n",
            "3       1.66      1.08      0.71  ...  0.016      1.41      1.29    0.004   \n",
            "4       0.57      0.61      0.13  ...  0.117      6.74      1.11    0.003   \n",
            "...      ...       ...       ...  ...    ...       ...       ...      ...   \n",
            "7994    0.03      1.37      0.00  ...  0.197     14.29      1.00    0.005   \n",
            "7995    0.02      1.48      0.00  ...  0.031     10.27      1.00    0.001   \n",
            "7996    0.02      0.91      0.00  ...  0.182     15.92      1.00    0.000   \n",
            "7997    0.09      0.00      0.00  ...  0.000      0.00      0.00    0.000   \n",
            "7998    0.03      1.00      0.00  ...  0.182     15.92      1.00    0.000   \n",
            "\n",
            "      perchlorate  radium  selenium  silver  uranium  is_safe  \n",
            "0           37.75    6.78      0.08    0.34     0.02        1  \n",
            "1           32.26    3.21      0.08    0.27     0.05        1  \n",
            "2           50.28    7.07      0.07    0.44     0.01        0  \n",
            "3            9.12    1.72      0.02    0.45     0.05        1  \n",
            "4           16.90    2.41      0.02    0.06     0.02        1  \n",
            "...           ...     ...       ...     ...      ...      ...  \n",
            "7994         3.57    2.13      0.09    0.06     0.03        1  \n",
            "7995         1.48    1.11      0.09    0.10     0.08        1  \n",
            "7996         1.35    4.84      0.00    0.04     0.05        1  \n",
            "7997         0.00    0.00      0.00    0.00     0.00        1  \n",
            "7998         1.35    4.84      0.00    0.04     0.05        1  \n",
            "\n",
            "[7996 rows x 21 columns]\n"
          ]
        }
      ],
      "source": [
        "import pandas as pd\n",
        "\n",
        "# Read the CSV file into a DataFrame\n",
        "df = pd.read_csv('/content/waterQuality1.csv')\n",
        "\n",
        "# Convert 'is_safe' column to numeric, replacing non-numeric values with NaN\n",
        "df['is_safe'] = pd.to_numeric(df['is_safe'], errors='coerce')\n",
        "\n",
        "# Convert 'ammonia' column to numeric, replacing non-numeric values with NaN\n",
        "df['ammonia'] = pd.to_numeric(df['ammonia'], errors='coerce')\n",
        "\n",
        "# Remove rows with NaN values in 'is_safe' and 'ammonia' columns\n",
        "df = df.dropna(subset=['is_safe', 'ammonia'])\n",
        "\n",
        "# Convert 'is_safe' column to integers\n",
        "df['is_safe'] = df['is_safe'].astype(int)\n",
        "\n",
        "df['ammonia'] = df['ammonia'].astype(float)\n",
        "\n",
        "df.to_csv(\"CleanedDataset\", index=False)\n",
        "\n",
        "# Print the cleaned dataset\n",
        "print(df)\n"
      ]
    }
  ]
}